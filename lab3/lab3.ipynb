{
 "cells": [
  {
   "cell_type": "code",
   "execution_count": 1,
   "metadata": {},
   "outputs": [
    {
     "name": "stdout",
     "output_type": "stream",
     "text": [
      "Requirement already satisfied: torch in c:\\users\\lesya\\appdata\\local\\programs\\python\\python38\\lib\\site-packages (2.3.1)\n",
      "Requirement already satisfied: torchvision in c:\\users\\lesya\\appdata\\local\\programs\\python\\python38\\lib\\site-packages (0.18.1)\n",
      "Requirement already satisfied: filelock in c:\\users\\lesya\\appdata\\local\\programs\\python\\python38\\lib\\site-packages (from torch) (3.14.0)\n",
      "Requirement already satisfied: typing-extensions>=4.8.0 in c:\\users\\lesya\\appdata\\roaming\\python\\python38\\site-packages (from torch) (4.12.0)\n",
      "Requirement already satisfied: sympy in c:\\users\\lesya\\appdata\\local\\programs\\python\\python38\\lib\\site-packages (from torch) (1.12)\n",
      "Requirement already satisfied: networkx in c:\\users\\lesya\\appdata\\local\\programs\\python\\python38\\lib\\site-packages (from torch) (3.1)\n",
      "Requirement already satisfied: jinja2 in c:\\users\\lesya\\appdata\\local\\programs\\python\\python38\\lib\\site-packages (from torch) (3.1.4)\n",
      "Requirement already satisfied: fsspec in c:\\users\\lesya\\appdata\\local\\programs\\python\\python38\\lib\\site-packages (from torch) (2024.5.0)\n",
      "Requirement already satisfied: mkl<=2021.4.0,>=2021.1.1 in c:\\users\\lesya\\appdata\\local\\programs\\python\\python38\\lib\\site-packages (from torch) (2021.4.0)\n",
      "Requirement already satisfied: numpy in c:\\users\\lesya\\appdata\\local\\programs\\python\\python38\\lib\\site-packages (from torchvision) (1.23.5)\n",
      "Requirement already satisfied: pillow!=8.3.*,>=5.3.0 in c:\\users\\lesya\\appdata\\local\\programs\\python\\python38\\lib\\site-packages (from torchvision) (10.3.0)\n",
      "Requirement already satisfied: intel-openmp==2021.* in c:\\users\\lesya\\appdata\\local\\programs\\python\\python38\\lib\\site-packages (from mkl<=2021.4.0,>=2021.1.1->torch) (2021.4.0)\n",
      "Requirement already satisfied: tbb==2021.* in c:\\users\\lesya\\appdata\\local\\programs\\python\\python38\\lib\\site-packages (from mkl<=2021.4.0,>=2021.1.1->torch) (2021.12.0)\n",
      "Requirement already satisfied: MarkupSafe>=2.0 in c:\\users\\lesya\\appdata\\local\\programs\\python\\python38\\lib\\site-packages (from jinja2->torch) (2.1.5)\n",
      "Requirement already satisfied: mpmath>=0.19 in c:\\users\\lesya\\appdata\\local\\programs\\python\\python38\\lib\\site-packages (from sympy->torch) (1.3.0)\n"
     ]
    }
   ],
   "source": [
    "!pip install torch torchvision"
   ]
  },
  {
   "cell_type": "code",
   "execution_count": 2,
   "metadata": {},
   "outputs": [],
   "source": [
    "import torch\n",
    "import torchvision.transforms as transforms\n",
    "from torchvision import models\n",
    "from PIL import Image\n",
    "import os\n",
    "import numpy as np\n",
    "from torch.utils.data import DataLoader, Dataset"
   ]
  },
  {
   "cell_type": "code",
   "execution_count": 3,
   "metadata": {},
   "outputs": [],
   "source": [
    "def load_and_preprocess_image(img_path, transform):\n",
    "    image = Image.open(img_path).convert(\"RGB\")\n",
    "    image = transform(image)\n",
    "    return image"
   ]
  },
  {
   "cell_type": "code",
   "execution_count": 4,
   "metadata": {},
   "outputs": [],
   "source": [
    "transform = transforms.Compose([\n",
    "    transforms.Resize(256),\n",
    "    transforms.CenterCrop(224),\n",
    "    transforms.ToTensor(),\n",
    "    transforms.Normalize(mean=[0.485, 0.456, 0.406], std=[0.229, 0.224, 0.225]),\n",
    "])"
   ]
  },
  {
   "cell_type": "code",
   "execution_count": 5,
   "metadata": {},
   "outputs": [
    {
     "name": "stderr",
     "output_type": "stream",
     "text": [
      "c:\\Users\\lesya\\AppData\\Local\\Programs\\Python\\Python38\\lib\\site-packages\\torchvision\\models\\_utils.py:208: UserWarning: The parameter 'pretrained' is deprecated since 0.13 and may be removed in the future, please use 'weights' instead.\n",
      "  warnings.warn(\n",
      "c:\\Users\\lesya\\AppData\\Local\\Programs\\Python\\Python38\\lib\\site-packages\\torchvision\\models\\_utils.py:223: UserWarning: Arguments other than a weight enum or `None` for 'weights' are deprecated since 0.13 and may be removed in the future. The current behavior is equivalent to passing `weights=AlexNet_Weights.IMAGENET1K_V1`. You can also use `weights=AlexNet_Weights.DEFAULT` to get the most up-to-date weights.\n",
      "  warnings.warn(msg)\n",
      "c:\\Users\\lesya\\AppData\\Local\\Programs\\Python\\Python38\\lib\\site-packages\\torchvision\\models\\_utils.py:223: UserWarning: Arguments other than a weight enum or `None` for 'weights' are deprecated since 0.13 and may be removed in the future. The current behavior is equivalent to passing `weights=VGG16_Weights.IMAGENET1K_V1`. You can also use `weights=VGG16_Weights.DEFAULT` to get the most up-to-date weights.\n",
      "  warnings.warn(msg)\n",
      "c:\\Users\\lesya\\AppData\\Local\\Programs\\Python\\Python38\\lib\\site-packages\\torchvision\\models\\_utils.py:223: UserWarning: Arguments other than a weight enum or `None` for 'weights' are deprecated since 0.13 and may be removed in the future. The current behavior is equivalent to passing `weights=ResNet50_Weights.IMAGENET1K_V1`. You can also use `weights=ResNet50_Weights.DEFAULT` to get the most up-to-date weights.\n",
      "  warnings.warn(msg)\n"
     ]
    }
   ],
   "source": [
    "models_list = {\n",
    "    'AlexNet': models.alexnet(pretrained=True),\n",
    "    'VGG16': models.vgg16(pretrained=True),\n",
    "    'ResNet50': models.resnet50(pretrained=True)\n",
    "}"
   ]
  },
  {
   "cell_type": "code",
   "execution_count": 6,
   "metadata": {},
   "outputs": [],
   "source": [
    "imageNet_to_coco_map = {\n",
    "    2: 444, # bicycle\n",
    "    38: 21, # kite\n",
    "    24: 340, # zebra\n",
    "    27: 414, # backpack\n",
    "    76: 508, # keyboard\n",
    "    73: 620, # laptop \n",
    "    78: 651, # microwave\n",
    "    74: 673, # mouse\n",
    "    15: 703, # bench\n",
    "    14: 704, # parking meter\n",
    "    82: 760, # refrigerator\n",
    "    80: 859, # toaster\n",
    "    28: 879, # umbrella\n",
    "    86: 883, # vase\n",
    "    10: 920, # traffic light\n",
    "    56: 937, # broccoli\n",
    "    55: 950, # orange\n",
    "    52: 954, # banana\n",
    "    59: 963, # pizza\n",
    "    47: 968, # cup\n",
    "}\n",
    "\n",
    "def get_annotation(img_path):\n",
    "    ann_path = f'{img_path.replace(\"images\", \"labels\")[:-3]}txt'\n",
    "    with open(ann_path, 'r') as file:\n",
    "        classes = file.read().split(' ')\n",
    "    return imageNet_to_coco_map.get(int(classes[0]))"
   ]
  },
  {
   "cell_type": "code",
   "execution_count": 7,
   "metadata": {},
   "outputs": [],
   "source": [
    "def match(double_list, value):\n",
    "    for item in double_list[0]:\n",
    "        if value == item:\n",
    "            return True\n",
    "    return False"
   ]
  },
  {
   "cell_type": "code",
   "execution_count": 8,
   "metadata": {},
   "outputs": [],
   "source": [
    "def predict_and_evaluate(models, img_dir, transform, device):\n",
    "    results = {}\n",
    "    \n",
    "    img_files = [f for f in os.listdir(img_dir) if os.path.isfile(os.path.join(img_dir, f))]\n",
    "    \n",
    "    for model_name, model in models.items():\n",
    "        model.to(device)\n",
    "        model.eval()\n",
    "        \n",
    "        top1_correct = 0\n",
    "        top5_correct = 0\n",
    "        total = 0\n",
    "        \n",
    "        with torch.no_grad():\n",
    "            for img_file in img_files:\n",
    "                img_path = os.path.join(img_dir, img_file)\n",
    "                image = load_and_preprocess_image(img_path, transform)\n",
    "                image = image.unsqueeze(0).to(device)\n",
    "                \n",
    "                outputs = model(image)\n",
    "                \n",
    "                scores, top5_pred = outputs.topk(5, 1, True, True)\n",
    "                top1_pred = top5_pred[:, 0]\n",
    "                \n",
    "                ground_truth = get_annotation(img_path)\n",
    "\n",
    "                total += 1\n",
    "                top1_correct += 1 if top1_pred.tolist()[0] == ground_truth else 0\n",
    "                top5_correct += 1 if match(top5_pred.tolist(), ground_truth) else 0\n",
    "        \n",
    "        top1_acc = top1_correct / total\n",
    "        top5_acc = top5_correct / total\n",
    "        \n",
    "        results[model_name] = {'Top-1 Accuracy': top1_acc, 'Top-5 Accuracy': top5_acc}\n",
    "    \n",
    "    return results"
   ]
  },
  {
   "cell_type": "code",
   "execution_count": 9,
   "metadata": {},
   "outputs": [
    {
     "name": "stdout",
     "output_type": "stream",
     "text": [
      "{'AlexNet': {'Top-1 Accuracy': 0.62, 'Top-5 Accuracy': 0.76}, 'VGG16': {'Top-1 Accuracy': 0.74, 'Top-5 Accuracy': 0.86}, 'ResNet50': {'Top-1 Accuracy': 0.74, 'Top-5 Accuracy': 0.86}}\n"
     ]
    }
   ],
   "source": [
    "device = torch.device(\"cuda\" if torch.cuda.is_available() else \"cpu\")\n",
    "\n",
    "img_dir = 'dataset/images/'\n",
    "results = predict_and_evaluate(models_list, img_dir, transform, device)\n",
    "\n",
    "print(results)"
   ]
  }
 ],
 "metadata": {
  "kernelspec": {
   "display_name": "Python 3",
   "language": "python",
   "name": "python3"
  },
  "language_info": {
   "codemirror_mode": {
    "name": "ipython",
    "version": 3
   },
   "file_extension": ".py",
   "mimetype": "text/x-python",
   "name": "python",
   "nbconvert_exporter": "python",
   "pygments_lexer": "ipython3",
   "version": "3.8.10"
  }
 },
 "nbformat": 4,
 "nbformat_minor": 2
}
