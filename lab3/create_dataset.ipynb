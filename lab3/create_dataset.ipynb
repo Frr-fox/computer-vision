{
 "cells": [
  {
   "cell_type": "code",
   "execution_count": 1,
   "metadata": {},
   "outputs": [
    {
     "name": "stdout",
     "output_type": "stream",
     "text": [
      "Requirement already satisfied: pycocotools in c:\\users\\lesya\\appdata\\local\\programs\\python\\python38\\lib\\site-packages (2.0.7)\n",
      "Requirement already satisfied: matplotlib>=2.1.0 in c:\\users\\lesya\\appdata\\local\\programs\\python\\python38\\lib\\site-packages (from pycocotools) (3.7.5)\n",
      "Requirement already satisfied: numpy in c:\\users\\lesya\\appdata\\local\\programs\\python\\python38\\lib\\site-packages (from pycocotools) (1.24.4)\n",
      "Requirement already satisfied: contourpy>=1.0.1 in c:\\users\\lesya\\appdata\\local\\programs\\python\\python38\\lib\\site-packages (from matplotlib>=2.1.0->pycocotools) (1.1.1)\n",
      "Requirement already satisfied: cycler>=0.10 in c:\\users\\lesya\\appdata\\local\\programs\\python\\python38\\lib\\site-packages (from matplotlib>=2.1.0->pycocotools) (0.12.1)\n",
      "Requirement already satisfied: fonttools>=4.22.0 in c:\\users\\lesya\\appdata\\local\\programs\\python\\python38\\lib\\site-packages (from matplotlib>=2.1.0->pycocotools) (4.53.0)\n",
      "Requirement already satisfied: kiwisolver>=1.0.1 in c:\\users\\lesya\\appdata\\local\\programs\\python\\python38\\lib\\site-packages (from matplotlib>=2.1.0->pycocotools) (1.4.5)\n",
      "Requirement already satisfied: packaging>=20.0 in c:\\users\\lesya\\appdata\\roaming\\python\\python38\\site-packages (from matplotlib>=2.1.0->pycocotools) (24.0)\n",
      "Requirement already satisfied: pillow>=6.2.0 in c:\\users\\lesya\\appdata\\local\\programs\\python\\python38\\lib\\site-packages (from matplotlib>=2.1.0->pycocotools) (10.3.0)\n",
      "Requirement already satisfied: pyparsing>=2.3.1 in c:\\users\\lesya\\appdata\\local\\programs\\python\\python38\\lib\\site-packages (from matplotlib>=2.1.0->pycocotools) (3.1.2)\n",
      "Requirement already satisfied: python-dateutil>=2.7 in c:\\users\\lesya\\appdata\\roaming\\python\\python38\\site-packages (from matplotlib>=2.1.0->pycocotools) (2.9.0.post0)\n",
      "Requirement already satisfied: importlib-resources>=3.2.0 in c:\\users\\lesya\\appdata\\local\\programs\\python\\python38\\lib\\site-packages (from matplotlib>=2.1.0->pycocotools) (6.4.0)\n",
      "Requirement already satisfied: zipp>=3.1.0 in c:\\users\\lesya\\appdata\\roaming\\python\\python38\\site-packages (from importlib-resources>=3.2.0->matplotlib>=2.1.0->pycocotools) (3.18.2)\n",
      "Requirement already satisfied: six>=1.5 in c:\\users\\lesya\\appdata\\roaming\\python\\python38\\site-packages (from python-dateutil>=2.7->matplotlib>=2.1.0->pycocotools) (1.16.0)\n",
      "Collecting requests\n",
      "  Using cached requests-2.32.3-py3-none-any.whl.metadata (4.6 kB)\n",
      "Collecting charset-normalizer<4,>=2 (from requests)\n",
      "  Using cached charset_normalizer-3.3.2-cp38-cp38-win_amd64.whl.metadata (34 kB)\n",
      "Collecting idna<4,>=2.5 (from requests)\n",
      "  Using cached idna-3.7-py3-none-any.whl.metadata (9.9 kB)\n",
      "Collecting urllib3<3,>=1.21.1 (from requests)\n",
      "  Using cached urllib3-2.2.1-py3-none-any.whl.metadata (6.4 kB)\n",
      "Collecting certifi>=2017.4.17 (from requests)\n",
      "  Using cached certifi-2024.6.2-py3-none-any.whl.metadata (2.2 kB)\n",
      "Using cached requests-2.32.3-py3-none-any.whl (64 kB)\n",
      "Using cached certifi-2024.6.2-py3-none-any.whl (164 kB)\n",
      "Using cached charset_normalizer-3.3.2-cp38-cp38-win_amd64.whl (99 kB)\n",
      "Using cached idna-3.7-py3-none-any.whl (66 kB)\n",
      "Using cached urllib3-2.2.1-py3-none-any.whl (121 kB)\n",
      "Installing collected packages: urllib3, idna, charset-normalizer, certifi, requests\n",
      "Successfully installed certifi-2024.6.2 charset-normalizer-3.3.2 idna-3.7 requests-2.32.3 urllib3-2.2.1\n"
     ]
    }
   ],
   "source": [
    "!pip install pycocotools\n",
    "!pip install requests"
   ]
  },
  {
   "cell_type": "code",
   "execution_count": 22,
   "metadata": {},
   "outputs": [
    {
     "name": "stdout",
     "output_type": "stream",
     "text": [
      "loading annotations into memory...\n",
      "Done (t=34.55s)\n",
      "creating index...\n",
      "index created!\n"
     ]
    }
   ],
   "source": [
    "from pycocotools.coco import COCO\n",
    "\n",
    "annFile = 'annotations_trainval2017\\\\annotations\\\\instances_train2017.json'\n",
    "\n",
    "coco = COCO(annFile)"
   ]
  },
  {
   "cell_type": "code",
   "execution_count": 94,
   "metadata": {},
   "outputs": [
    {
     "name": "stdout",
     "output_type": "stream",
     "text": [
      "[2, 10, 14, 15, 24, 27, 28, 38, 47, 52, 55, 56, 59, 73, 74, 76, 78, 80, 82, 86]\n",
      "bicycle: [2]\n",
      "kite: [38]\n",
      "zebra: [24]\n",
      "backpack: [27]\n",
      "keyboard: [76]\n",
      "laptop: [73]\n",
      "microwave: [78]\n",
      "mouse: [74]\n",
      "bench: [15]\n",
      "parking meter: [14]\n",
      "refrigerator: [82]\n",
      "toaster: [80]\n",
      "umbrella: [28]\n",
      "vase: [86]\n",
      "traffic light: [10]\n",
      "broccoli: [56]\n",
      "orange: [55]\n",
      "banana: [52]\n",
      "pizza: [59]\n",
      "cup: [47]\n",
      "45705\n"
     ]
    }
   ],
   "source": [
    "data_size=50\n",
    "\n",
    "union_classes = ['bicycle', 'kite', 'zebra', 'backpack', 'keyboard', 'laptop', 'microwave', 'mouse', 'bench', 'parking meter', 'refrigerator', 'toaster', 'umbrella', 'vase', 'traffic light', 'broccoli', 'orange', 'banana', 'pizza', 'cup']\n",
    "\n",
    "catIds = coco.getCatIds(catNms=union_classes)\n",
    "print(catIds)\n",
    "\n",
    "for union_class in union_classes:\n",
    "    catId = coco.getCatIds(catNms=union_class)\n",
    "    print(f'{union_class}: {catId}')\n",
    "\n",
    "imgIds = set()\n",
    "for catId in catIds:\n",
    "    imgId = coco.getImgIds(catIds=catId)\n",
    "    for img in imgId:\n",
    "        imgIds.add(img)\n",
    "imgIds_dataset = imgIds\n",
    "print(len(imgIds))"
   ]
  },
  {
   "cell_type": "code",
   "execution_count": 78,
   "metadata": {},
   "outputs": [],
   "source": [
    "import os\n",
    "\n",
    "if not os.path.exists('dataset'):\n",
    "    os.makedirs('dataset/images')\n",
    "    os.makedirs('dataset/labels')"
   ]
  },
  {
   "cell_type": "code",
   "execution_count": 93,
   "metadata": {},
   "outputs": [],
   "source": [
    "import requests\n",
    "count = 0\n",
    "\n",
    "def get_ann_classes(img):\n",
    "    annIds = coco.getAnnIds(imgIds=img['id'], iscrowd=None)\n",
    "    anns = coco.loadAnns(annIds)\n",
    "    classes = set()\n",
    "    for ann in anns:\n",
    "            class_id = ann['category_id']\n",
    "            classes.add(str(class_id))\n",
    "    return classes\n",
    "\n",
    "for imgId in imgIds_dataset:\n",
    "    img = coco.loadImgs(imgId)[0]\n",
    "    url = img['coco_url']\n",
    "    img_data = requests.get(url).content\n",
    "    classes = get_ann_classes(img)\n",
    "    if len(classes) != 1 or '70' in classes:\n",
    "        continue\n",
    "\n",
    "    with open(f\"dataset/images/{img['file_name']}\", 'wb') as handler:\n",
    "        handler.write(img_data)\n",
    "\n",
    "    with open(f\"dataset/labels/{img['file_name'][:-4]}.txt\", 'w') as f:\n",
    "        f.write(' '.join(classes))\n",
    "    \n",
    "    count += 1\n",
    "    if count >= data_size:\n",
    "        break"
   ]
  },
  {
   "cell_type": "code",
   "execution_count": 39,
   "metadata": {},
   "outputs": [
    {
     "name": "stdout",
     "output_type": "stream",
     "text": [
      "[2, 4, 5, 6, 10, 11, 15, 16, 19, 20, 25, 52, 81, 85, 86]\n"
     ]
    }
   ],
   "source": [
    "classes = set()\n",
    "\n",
    "directory_path = 'dataset/labels'\n",
    "\n",
    "files = [f for f in os.listdir(directory_path) if os.path.isfile(os.path.join(directory_path, f))]\n",
    "\n",
    "for file_name in files:\n",
    "    file_path = os.path.join(directory_path, file_name)\n",
    "    with open(file_path, 'r') as file:\n",
    "        content = file.read().split(' ')\n",
    "        for item in content:\n",
    "            classes.add(int(item))\n",
    "\n",
    "print(sorted(classes))"
   ]
  },
  {
   "cell_type": "code",
   "execution_count": 46,
   "metadata": {},
   "outputs": [
    {
     "name": "stdout",
     "output_type": "stream",
     "text": [
      "['bicycle', 'motorcycle', 'airplane', 'bus', 'traffic light', 'fire hydrant', 'bench', 'bird', 'sink', 'horse', 'banana', 'sheep', 'vase', 'clock', 'giraffe']\n",
      "Count: 15\n"
     ]
    }
   ],
   "source": [
    "cats = coco.loadCats(coco.getCatIds())\n",
    "coco_classes = {cat['id']: cat['name'] for cat in cats}\n",
    "\n",
    "def get_class_name(class_id):\n",
    "    return coco_classes.get(class_id, \"Unknown\")\n",
    "\n",
    "class_names = [get_class_name(class_id) for class_id in classes]\n",
    "\n",
    "print(class_names)\n",
    "print(f'Count: {len(class_names)}')"
   ]
  },
  {
   "cell_type": "code",
   "execution_count": 64,
   "metadata": {},
   "outputs": [],
   "source": [
    "import urllib\n",
    "\n",
    "all_coco_classes = []\n",
    "\n",
    "with open(\"coco_classes.txt\", 'r') as file:\n",
    "    content = file.read().split(\"\\n\")\n",
    "    for item in content:\n",
    "        all_coco_classes.append(item)\n",
    "all_coco_classes = all_coco_classes[1:-1]\n",
    "\n",
    "url = 'https://raw.githubusercontent.com/pytorch/hub/master/imagenet_classes.txt'\n",
    "response = urllib.request.urlopen(url)\n",
    "imagenet_classes = [line.strip() for line in response]\n",
    "\n",
    "map = []\n",
    "\n",
    "for idx, class_name in enumerate(imagenet_classes):\n",
    "    for item in all_coco_classes:\n",
    "        if item in str(class_name):\n",
    "            map.append(f'ImageNet: {idx}, {class_name}, COCO: {all_coco_classes.index(item)}, {item}')\n",
    "            \n",
    "with open(f\"coco_imageNet_class_map.txt\", 'w') as f:\n",
    "    f.write(\"\\n\".join(map))"
   ]
  },
  {
   "cell_type": "code",
   "execution_count": 52,
   "metadata": {},
   "outputs": [
    {
     "name": "stdout",
     "output_type": "stream",
     "text": [
      "Index: 94, Class: b'hummingbird'\n",
      "Index: 138, Class: b'bustard'\n",
      "Index: 229, Class: b'Old English sheepdog'\n",
      "Index: 230, Class: b'Shetland sheepdog'\n",
      "Index: 375, Class: b'colobus'\n",
      "Index: 409, Class: b'analog clock'\n",
      "Index: 444, Class: b'bicycle-built-for-two'\n",
      "Index: 448, Class: b'birdhouse'\n",
      "Index: 530, Class: b'digital clock'\n",
      "Index: 603, Class: b'horse cart'\n",
      "Index: 654, Class: b'minibus'\n",
      "Index: 703, Class: b'park bench'\n",
      "Index: 779, Class: b'school bus'\n",
      "Index: 874, Class: b'trolleybus'\n",
      "Index: 883, Class: b'vase'\n",
      "Index: 892, Class: b'wall clock'\n",
      "Index: 920, Class: b'traffic light'\n",
      "Index: 954, Class: b'banana'\n"
     ]
    }
   ],
   "source": [
    "for idx, class_name in enumerate(imagenet_classes):\n",
    "    for item in class_names:\n",
    "        if item in str(class_name):\n",
    "            print(f'Index: {idx}, Class: {class_name}')"
   ]
  },
  {
   "cell_type": "code",
   "execution_count": null,
   "metadata": {},
   "outputs": [],
   "source": [
    "imageNet_to_coco_map = {\n",
    "    444: 2, # bicycle\n",
    "    21: 38, # kite\n",
    "    340: 24, # zebra\n",
    "    414: 27, # backpack\n",
    "    508: 76, # keyboard\n",
    "    620: 73, # laptop \n",
    "    651: 78, # microwave\n",
    "    673: 74, # mouse\n",
    "    703: 15, # bench\n",
    "    704: 14, # parking meter\n",
    "    760: 82, # refrigerator\n",
    "    859: 80, # toaster\n",
    "    879: 28, # umbrella\n",
    "    883: 86, # vase\n",
    "    920: 10, # traffic light\n",
    "    937: 56, # broccoli\n",
    "    950: 55, # orange\n",
    "    954: 52, # banana\n",
    "    963: 59, # pizza\n",
    "    968: 47, # cup\n",
    "}"
   ]
  }
 ],
 "metadata": {
  "kernelspec": {
   "display_name": "Python 3",
   "language": "python",
   "name": "python3"
  },
  "language_info": {
   "codemirror_mode": {
    "name": "ipython",
    "version": 3
   },
   "file_extension": ".py",
   "mimetype": "text/x-python",
   "name": "python",
   "nbconvert_exporter": "python",
   "pygments_lexer": "ipython3",
   "version": "3.8.10"
  }
 },
 "nbformat": 4,
 "nbformat_minor": 2
}
